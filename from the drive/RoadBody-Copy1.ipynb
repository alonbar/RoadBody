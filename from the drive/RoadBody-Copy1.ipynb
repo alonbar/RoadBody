{
 "cells": [
  {
   "cell_type": "markdown",
   "metadata": {},
   "source": [
    "# Google Location History"
   ]
  },
  {
   "cell_type": "markdown",
   "metadata": {},
   "source": [
    "*Package requirement: basemap*"
   ]
  },
  {
   "cell_type": "markdown",
   "metadata": {},
   "source": [
    "### Extract User Routine"
   ]
  },
  {
   "cell_type": "code",
   "execution_count": 1,
   "metadata": {
    "collapsed": false
   },
   "outputs": [
    {
     "ename": "ImportError",
     "evalue": "No module named basemap",
     "output_type": "error",
     "traceback": [
      "\u001b[0;31m---------------------------------------------------------------------------\u001b[0m",
      "\u001b[0;31mImportError\u001b[0m                               Traceback (most recent call last)",
      "\u001b[0;32m<ipython-input-1-89fb9236417b>\u001b[0m in \u001b[0;36m<module>\u001b[0;34m()\u001b[0m\n\u001b[1;32m      1\u001b[0m \u001b[0mget_ipython\u001b[0m\u001b[0;34m(\u001b[0m\u001b[0;34m)\u001b[0m\u001b[0;34m.\u001b[0m\u001b[0mmagic\u001b[0m\u001b[0;34m(\u001b[0m\u001b[0;34mu'matplotlib inline'\u001b[0m\u001b[0;34m)\u001b[0m\u001b[0;34m\u001b[0m\u001b[0m\n\u001b[0;32m----> 2\u001b[0;31m \u001b[0;32mfrom\u001b[0m \u001b[0mmpl_toolkits\u001b[0m\u001b[0;34m.\u001b[0m\u001b[0mbasemap\u001b[0m \u001b[0;32mimport\u001b[0m \u001b[0mBasemap\u001b[0m\u001b[0;34m\u001b[0m\u001b[0m\n\u001b[0m\u001b[1;32m      3\u001b[0m \u001b[0;32mimport\u001b[0m \u001b[0mmatplotlib\u001b[0m\u001b[0;34m.\u001b[0m\u001b[0mpyplot\u001b[0m \u001b[0;32mas\u001b[0m \u001b[0mplt\u001b[0m\u001b[0;34m\u001b[0m\u001b[0m\n\u001b[1;32m      4\u001b[0m \u001b[0;32mimport\u001b[0m \u001b[0mmatplotlib\u001b[0m \u001b[0;32mas\u001b[0m \u001b[0mmpl\u001b[0m\u001b[0;34m\u001b[0m\u001b[0m\n\u001b[1;32m      5\u001b[0m \u001b[0;32mimport\u001b[0m \u001b[0mnumpy\u001b[0m \u001b[0;32mas\u001b[0m \u001b[0mnp\u001b[0m\u001b[0;34m\u001b[0m\u001b[0m\n",
      "\u001b[0;31mImportError\u001b[0m: No module named basemap"
     ]
    }
   ],
   "source": [
    "%matplotlib inline\n",
    "from mpl_toolkits.basemap import Basemap\n",
    "import matplotlib.pyplot as plt\n",
    "import matplotlib as mpl\n",
    "import numpy as np\n",
    "import json\n",
    "\n",
    "mpl.rcParams[\"figure.figsize\"] = (20,10)\n",
    "\n",
    "data = json.load(open(r\"C:\\Users\\user\\Google Drive\\chara\\gal\"))\n",
    "\n",
    "def plotUser(data, color):\n",
    "    x = [loc['longitudeE7'] for loc in data]\n",
    "    y = [loc['latitudeE7'] for loc in data]\n",
    "    \n",
    "    maxT = max([loc['start_miliseconds'] for loc in data])\n",
    "    minT = min([loc['start_miliseconds'] for loc in data])\n",
    "    t = [(loc[\"start_miliseconds\"] - minT)/(maxT - minT) for loc in data]\n",
    "    c = [(loc*color[0], loc*color[1], loc*color[2]) for loc in t]\n",
    "    #m = Basemap(width=120000,height=90000,projection='lcc',\n",
    "    #            resolution='c',lat_0=min(y),lat_1=max(y),lon_0=min(x),lon_1=max(y))\n",
    "    # draw coastlines, state and country boundaries, edge of map.\n",
    "    #m.drawcoastlines()\n",
    "    #m.drawstates()\n",
    "    #m.drawcountries()\n",
    "    #m.readshapefile(\n",
    "    #    './buildings.shp',\n",
    "    #    'london',\n",
    "    #    color='none',\n",
    "    #    zorder=2)\n",
    "\n",
    "    plt.scatter(x ,y, s=100, c=c, alpha=0.75)\n",
    "plotUser(data[\"1\"], (0,1,0))"
   ]
  },
  {
   "cell_type": "markdown",
   "metadata": {},
   "source": [
    "### Find Common Routes"
   ]
  },
  {
   "cell_type": "code",
   "execution_count": null,
   "metadata": {
    "collapsed": true
   },
   "outputs": [],
   "source": [
    "a,b,c = (1,2,3)"
   ]
  },
  {
   "cell_type": "code",
   "execution_count": null,
   "metadata": {
    "collapsed": false
   },
   "outputs": [],
   "source": [
    "os.environ[\"PATH\"] += \";C:\\Program Files\\GDAL\""
   ]
  },
  {
   "cell_type": "code",
   "execution_count": null,
   "metadata": {
    "collapsed": false
   },
   "outputs": [],
   "source": [
    "import fiona"
   ]
  },
  {
   "cell_type": "code",
   "execution_count": null,
   "metadata": {
    "collapsed": false
   },
   "outputs": [],
   "source": [
    "data"
   ]
  },
  {
   "cell_type": "code",
   "execution_count": null,
   "metadata": {
    "collapsed": false
   },
   "outputs": [],
   "source": [
    "list(enumerate(\"abcdefg\"))"
   ]
  },
  {
   "cell_type": "code",
   "execution_count": null,
   "metadata": {
    "collapsed": true
   },
   "outputs": [],
   "source": [
    "a = set({1,2,3})\n",
    "b = set({2,3,4})"
   ]
  },
  {
   "cell_type": "code",
   "execution_count": null,
   "metadata": {
    "collapsed": false
   },
   "outputs": [],
   "source": []
  },
  {
   "cell_type": "code",
   "execution_count": null,
   "metadata": {
    "collapsed": false
   },
   "outputs": [],
   "source": [
    "import bokeh"
   ]
  },
  {
   "cell_type": "code",
   "execution_count": null,
   "metadata": {
    "collapsed": false
   },
   "outputs": [],
   "source": [
    "bokeh."
   ]
  },
  {
   "cell_type": "code",
   "execution_count": null,
   "metadata": {
    "collapsed": true
   },
   "outputs": [],
   "source": [
    "from bokeh.plotting import figure, output_file, show\n",
    "\n",
    "# prepare some data\n",
    "x = [1, 2, 3, 4, 5]\n",
    "y = [6, 7, 2, 4, 5]\n",
    "\n",
    "# output to static HTML file\n",
    "output_file(\"lines.html\", title=\"line plot example\")\n",
    "\n",
    "# create a new plot with a title and axis labels\n",
    "p = figure(title=\"simple line example\", x_axis_label='x', y_axis_label='y')\n",
    "\n",
    "# add a line renderer with legend and line thickness\n",
    "p.line(x, y, legend=\"Temp.\", line_width=2)\n",
    "\n",
    "# show the results\n",
    "show(p)"
   ]
  },
  {
   "cell_type": "code",
   "execution_count": 3,
   "metadata": {
    "collapsed": false
   },
   "outputs": [
    {
     "ename": "ValueError",
     "evalue": "not enough values to unpack (expected 2, got 1)",
     "output_type": "error",
     "traceback": [
      "\u001b[1;31m---------------------------------------------------------------------------\u001b[0m",
      "\u001b[1;31mValueError\u001b[0m                                Traceback (most recent call last)",
      "\u001b[1;32m<ipython-input-3-deb2750f47f7>\u001b[0m in \u001b[0;36m<module>\u001b[1;34m()\u001b[0m\n\u001b[0;32m     62\u001b[0m \u001b[1;33m\u001b[0m\u001b[0m\n\u001b[0;32m     63\u001b[0m \u001b[0mdata\u001b[0m \u001b[1;33m=\u001b[0m \u001b[1;33m{\u001b[0m\u001b[1;34m\"green\"\u001b[0m \u001b[1;33m:\u001b[0m \u001b[1;33m[\u001b[0m\u001b[0mrow\u001b[0m\u001b[1;33m.\u001b[0m\u001b[0mstrip\u001b[0m\u001b[1;33m(\u001b[0m\u001b[1;33m)\u001b[0m\u001b[1;33m.\u001b[0m\u001b[0msplit\u001b[0m\u001b[1;33m(\u001b[0m\u001b[1;34m\",\"\u001b[0m\u001b[1;33m)\u001b[0m \u001b[1;32mfor\u001b[0m \u001b[0mrow\u001b[0m \u001b[1;32min\u001b[0m \u001b[0mopen\u001b[0m\u001b[1;33m(\u001b[0m\u001b[1;34mr\"C:\\Users\\borgr\\Google Drive\\chara\\to_check.txt\"\u001b[0m\u001b[1;33m)\u001b[0m\u001b[1;33m]\u001b[0m\u001b[1;33m}\u001b[0m\u001b[1;33m\u001b[0m\u001b[0m\n\u001b[1;32m---> 64\u001b[1;33m \u001b[0mdrawMap\u001b[0m\u001b[1;33m(\u001b[0m\u001b[1;34m'test'\u001b[0m\u001b[1;33m,\u001b[0m \u001b[0mdata\u001b[0m\u001b[1;33m)\u001b[0m\u001b[1;33m\u001b[0m\u001b[0m\n\u001b[0m",
      "\u001b[1;32m<ipython-input-3-deb2750f47f7>\u001b[0m in \u001b[0;36mdrawMap\u001b[1;34m(title, datas)\u001b[0m\n\u001b[0;32m     20\u001b[0m \u001b[1;33m\u001b[0m\u001b[0m\n\u001b[0;32m     21\u001b[0m     \u001b[1;32mfor\u001b[0m \u001b[0mcolor\u001b[0m \u001b[1;32min\u001b[0m \u001b[0mdatas\u001b[0m\u001b[1;33m:\u001b[0m\u001b[1;33m\u001b[0m\u001b[0m\n\u001b[1;32m---> 22\u001b[1;33m         \u001b[0mc_lat\u001b[0m\u001b[1;33m,\u001b[0m \u001b[0mc_lon\u001b[0m \u001b[1;33m=\u001b[0m \u001b[0mlist\u001b[0m\u001b[1;33m(\u001b[0m\u001b[0mzip\u001b[0m\u001b[1;33m(\u001b[0m\u001b[1;33m*\u001b[0m\u001b[0mdatas\u001b[0m\u001b[1;33m[\u001b[0m\u001b[0mcolor\u001b[0m\u001b[1;33m]\u001b[0m\u001b[1;33m)\u001b[0m\u001b[1;33m)\u001b[0m\u001b[1;33m\u001b[0m\u001b[0m\n\u001b[0m\u001b[0;32m     23\u001b[0m         \u001b[0mlat\u001b[0m\u001b[1;33m.\u001b[0m\u001b[0mextend\u001b[0m\u001b[1;33m(\u001b[0m\u001b[0mmap\u001b[0m\u001b[1;33m(\u001b[0m\u001b[0mfloat\u001b[0m\u001b[1;33m,\u001b[0m \u001b[0mc_lat\u001b[0m\u001b[1;33m)\u001b[0m\u001b[1;33m)\u001b[0m\u001b[1;33m\u001b[0m\u001b[0m\n\u001b[0;32m     24\u001b[0m         \u001b[0mlon\u001b[0m\u001b[1;33m.\u001b[0m\u001b[0mextend\u001b[0m\u001b[1;33m(\u001b[0m\u001b[0mmap\u001b[0m\u001b[1;33m(\u001b[0m\u001b[0mfloat\u001b[0m\u001b[1;33m,\u001b[0m \u001b[0mc_lon\u001b[0m\u001b[1;33m)\u001b[0m\u001b[1;33m)\u001b[0m\u001b[1;33m\u001b[0m\u001b[0m\n",
      "\u001b[1;31mValueError\u001b[0m: not enough values to unpack (expected 2, got 1)"
     ]
    }
   ],
   "source": [
    "from __future__ import print_function\n",
    "\n",
    "import numpy as np\n",
    "from IPython import display\n",
    "from bokeh.embed import file_html\n",
    "from bokeh.models.glyphs import Circle\n",
    "from bokeh.models import (\n",
    "    GMapPlot, Range1d, ColumnDataSource,\n",
    "    PanTool, WheelZoomTool, BoxSelectTool,\n",
    "    BoxSelectionOverlay, GMapOptions)\n",
    "from bokeh.resources import INLINE\n",
    "\n",
    "def drawMap(title, datas):\n",
    "    \"\"\"\n",
    "    color : [(lat, lon)]\n",
    "    \"\"\" \n",
    "    lat = []\n",
    "    lon = []\n",
    "    c = []\n",
    "    \n",
    "    for color in datas:\n",
    "        c_lat, c_lon = list(zip(*datas[color]))\n",
    "        lat.extend(map(float, c_lat))\n",
    "        lon.extend(map(float, c_lon))\n",
    "        c.extend([color]*len(datas[color]))\n",
    "        \n",
    "    center_lat = np.mean(lat)\n",
    "    center_lon = np.mean(lon)\n",
    "\n",
    "    x_range = Range1d()\n",
    "    y_range = Range1d()\n",
    "    \n",
    "    source = ColumnDataSource(\n",
    "        data=dict(\n",
    "            lat=lat,\n",
    "            lon=lon,\n",
    "            fill=c\n",
    "        )\n",
    "    )\n",
    "\n",
    "    map_options = GMapOptions(lat=center_lat, lng=center_lon, map_type=\"roadmap\", zoom=11)\n",
    "    plot = GMapPlot(\n",
    "        x_range=x_range, y_range=y_range,\n",
    "        map_options=map_options,\n",
    "        title=title\n",
    "    )\n",
    "\n",
    "    # Glyphs (dots on graph)\n",
    "    circle = Circle(x=\"lon\", y=\"lat\", size=5, fill_color=\"fill\", line_color=\"black\")\n",
    "    plot.add_glyph(source, circle)\n",
    "\n",
    "    #Navigation\n",
    "    pan = PanTool()\n",
    "    wheel_zoom = WheelZoomTool()\n",
    "    box_select = BoxSelectTool()\n",
    "\n",
    "    plot.add_tools(pan, wheel_zoom, box_select)\n",
    "    overlay = BoxSelectionOverlay(tool=box_select)\n",
    "    plot.add_layout(overlay)\n",
    "\n",
    "    return display.HTML(file_html(plot, INLINE, \"Google Maps Example\"))\n",
    "    \n",
    "data = {\"green\" : [row.strip().split(\",\") for row in open(r\"C:\\Users\\borgr\\Google Drive\\chara\\to_check.txt\")]}\n",
    "drawMap('test', data)"
   ]
  },
  {
   "cell_type": "code",
   "execution_count": null,
   "metadata": {
    "collapsed": true
   },
   "outputs": [],
   "source": [
    "import json"
   ]
  },
  {
   "cell_type": "code",
   "execution_count": null,
   "metadata": {
    "collapsed": true
   },
   "outputs": [],
   "source": [
    "gal_data = json.load(open(r\"/Users/galyona/Google Drive/chara/gal_hist.json\"))"
   ]
  },
  {
   "cell_type": "code",
   "execution_count": null,
   "metadata": {
    "collapsed": true
   },
   "outputs": [],
   "source": [
    "import pandas as pd"
   ]
  },
  {
   "cell_type": "code",
   "execution_count": null,
   "metadata": {
    "collapsed": true
   },
   "outputs": [],
   "source": [
    "df = pandas.io.json.read_json(open(r\"C:\\Users\\user\\Google Drive\\chara\\gal_hist.json\"))"
   ]
  },
  {
   "cell_type": "code",
   "execution_count": null,
   "metadata": {
    "collapsed": false
   },
   "outputs": [],
   "source": [
    "pandas.io.json.read_json?"
   ]
  },
  {
   "cell_type": "code",
   "execution_count": null,
   "metadata": {
    "collapsed": true
   },
   "outputs": [],
   "source": []
  }
 ],
 "metadata": {
  "kernelspec": {
   "display_name": "Python 2",
   "language": "python",
   "name": "python2"
  },
  "language_info": {
   "codemirror_mode": {
    "name": "ipython",
    "version": 2
   },
   "file_extension": ".py",
   "mimetype": "text/x-python",
   "name": "python",
   "nbconvert_exporter": "python",
   "pygments_lexer": "ipython2",
   "version": "2.7.10"
  }
 },
 "nbformat": 4,
 "nbformat_minor": 0
}
