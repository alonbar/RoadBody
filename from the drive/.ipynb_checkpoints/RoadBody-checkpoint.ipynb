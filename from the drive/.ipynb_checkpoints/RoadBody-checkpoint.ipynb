{
 "cells": [
  {
   "cell_type": "markdown",
   "metadata": {},
   "source": [
    "# Google Location History"
   ]
  },
  {
   "cell_type": "markdown",
   "metadata": {},
   "source": [
    "*Package requirement: basemap*"
   ]
  },
  {
   "cell_type": "markdown",
   "metadata": {},
   "source": [
    "### Extract User Routine"
   ]
  },
  {
   "cell_type": "code",
   "execution_count": 2,
   "metadata": {
    "collapsed": false
   },
   "outputs": [
    {
     "ename": "ImportError",
     "evalue": "No module named basemap",
     "output_type": "error",
     "traceback": [
      "\u001b[0;31m---------------------------------------------------------------------------\u001b[0m",
      "\u001b[0;31mImportError\u001b[0m                               Traceback (most recent call last)",
      "\u001b[0;32m<ipython-input-2-89fb9236417b>\u001b[0m in \u001b[0;36m<module>\u001b[0;34m()\u001b[0m\n\u001b[1;32m      1\u001b[0m \u001b[0mget_ipython\u001b[0m\u001b[0;34m(\u001b[0m\u001b[0;34m)\u001b[0m\u001b[0;34m.\u001b[0m\u001b[0mmagic\u001b[0m\u001b[0;34m(\u001b[0m\u001b[0;34mu'matplotlib inline'\u001b[0m\u001b[0;34m)\u001b[0m\u001b[0;34m\u001b[0m\u001b[0m\n\u001b[0;32m----> 2\u001b[0;31m \u001b[0;32mfrom\u001b[0m \u001b[0mmpl_toolkits\u001b[0m\u001b[0;34m.\u001b[0m\u001b[0mbasemap\u001b[0m \u001b[0;32mimport\u001b[0m \u001b[0mBasemap\u001b[0m\u001b[0;34m\u001b[0m\u001b[0m\n\u001b[0m\u001b[1;32m      3\u001b[0m \u001b[0;32mimport\u001b[0m \u001b[0mmatplotlib\u001b[0m\u001b[0;34m.\u001b[0m\u001b[0mpyplot\u001b[0m \u001b[0;32mas\u001b[0m \u001b[0mplt\u001b[0m\u001b[0;34m\u001b[0m\u001b[0m\n\u001b[1;32m      4\u001b[0m \u001b[0;32mimport\u001b[0m \u001b[0mmatplotlib\u001b[0m \u001b[0;32mas\u001b[0m \u001b[0mmpl\u001b[0m\u001b[0;34m\u001b[0m\u001b[0m\n\u001b[1;32m      5\u001b[0m \u001b[0;32mimport\u001b[0m \u001b[0mnumpy\u001b[0m \u001b[0;32mas\u001b[0m \u001b[0mnp\u001b[0m\u001b[0;34m\u001b[0m\u001b[0m\n",
      "\u001b[0;31mImportError\u001b[0m: No module named basemap"
     ]
    }
   ],
   "source": [
    "%matplotlib inline\n",
    "from mpl_toolkits.basemap import Basemap\n",
    "import matplotlib.pyplot as plt\n",
    "import matplotlib as mpl\n",
    "import numpy as np\n",
    "import json\n",
    "\n",
    "mpl.rcParams[\"figure.figsize\"] = (20,10)\n",
    "\n",
    "data = json.load(open(r\"C:\\Users\\user\\Google Drive\\chara\\gal\"))\n",
    "\n",
    "def plotUser(data, color):\n",
    "    x = [loc['longitudeE7'] for loc in data]\n",
    "    y = [loc['latitudeE7'] for loc in data]\n",
    "    \n",
    "    maxT = max([loc['start_miliseconds'] for loc in data])\n",
    "    minT = min([loc['start_miliseconds'] for loc in data])\n",
    "    t = [(loc[\"start_miliseconds\"] - minT)/(maxT - minT) for loc in data]\n",
    "    c = [(loc*color[0], loc*color[1], loc*color[2]) for loc in t]\n",
    "    #m = Basemap(width=120000,height=90000,projection='lcc',\n",
    "    #            resolution='c',lat_0=min(y),lat_1=max(y),lon_0=min(x),lon_1=max(y))\n",
    "    # draw coastlines, state and country boundaries, edge of map.\n",
    "    #m.drawcoastlines()\n",
    "    #m.drawstates()\n",
    "    #m.drawcountries()\n",
    "    #m.readshapefile(\n",
    "    #    './buildings.shp',\n",
    "    #    'london',\n",
    "    #    color='none',\n",
    "    #    zorder=2)\n",
    "\n",
    "    plt.scatter(x ,y, s=100, c=c, alpha=0.75)\n",
    "plotUser(data[\"1\"], (0,1,0))"
   ]
  },
  {
   "cell_type": "markdown",
   "metadata": {},
   "source": [
    "### Find Common Routes"
   ]
  },
  {
   "cell_type": "code",
   "execution_count": 3,
   "metadata": {
    "collapsed": true
   },
   "outputs": [],
   "source": [
    "a,b,c = (1,2,3)"
   ]
  },
  {
   "cell_type": "code",
   "execution_count": 4,
   "metadata": {
    "collapsed": false
   },
   "outputs": [
    {
     "ename": "NameError",
     "evalue": "name 'os' is not defined",
     "output_type": "error",
     "traceback": [
      "\u001b[0;31m---------------------------------------------------------------------------\u001b[0m",
      "\u001b[0;31mNameError\u001b[0m                                 Traceback (most recent call last)",
      "\u001b[0;32m<ipython-input-4-f9522b4f7927>\u001b[0m in \u001b[0;36m<module>\u001b[0;34m()\u001b[0m\n\u001b[0;32m----> 1\u001b[0;31m \u001b[0mos\u001b[0m\u001b[0;34m.\u001b[0m\u001b[0menviron\u001b[0m\u001b[0;34m[\u001b[0m\u001b[0;34m\"PATH\"\u001b[0m\u001b[0;34m]\u001b[0m \u001b[0;34m+=\u001b[0m \u001b[0;34m\";C:\\Program Files\\GDAL\"\u001b[0m\u001b[0;34m\u001b[0m\u001b[0m\n\u001b[0m",
      "\u001b[0;31mNameError\u001b[0m: name 'os' is not defined"
     ]
    }
   ],
   "source": [
    "os.environ[\"PATH\"] += \";C:\\Program Files\\GDAL\""
   ]
  },
  {
   "cell_type": "code",
   "execution_count": 5,
   "metadata": {
    "collapsed": false
   },
   "outputs": [
    {
     "ename": "ImportError",
     "evalue": "No module named fiona",
     "output_type": "error",
     "traceback": [
      "\u001b[0;31m---------------------------------------------------------------------------\u001b[0m",
      "\u001b[0;31mImportError\u001b[0m                               Traceback (most recent call last)",
      "\u001b[0;32m<ipython-input-5-cc872b235141>\u001b[0m in \u001b[0;36m<module>\u001b[0;34m()\u001b[0m\n\u001b[0;32m----> 1\u001b[0;31m \u001b[0;32mimport\u001b[0m \u001b[0mfiona\u001b[0m\u001b[0;34m\u001b[0m\u001b[0m\n\u001b[0m",
      "\u001b[0;31mImportError\u001b[0m: No module named fiona"
     ]
    }
   ],
   "source": [
    "import fiona"
   ]
  },
  {
   "cell_type": "code",
   "execution_count": 6,
   "metadata": {
    "collapsed": false
   },
   "outputs": [
    {
     "ename": "NameError",
     "evalue": "name 'data' is not defined",
     "output_type": "error",
     "traceback": [
      "\u001b[0;31m---------------------------------------------------------------------------\u001b[0m",
      "\u001b[0;31mNameError\u001b[0m                                 Traceback (most recent call last)",
      "\u001b[0;32m<ipython-input-6-6137cde4893c>\u001b[0m in \u001b[0;36m<module>\u001b[0;34m()\u001b[0m\n\u001b[0;32m----> 1\u001b[0;31m \u001b[0mdata\u001b[0m\u001b[0;34m\u001b[0m\u001b[0m\n\u001b[0m",
      "\u001b[0;31mNameError\u001b[0m: name 'data' is not defined"
     ]
    }
   ],
   "source": [
    "data"
   ]
  },
  {
   "cell_type": "code",
   "execution_count": 7,
   "metadata": {
    "collapsed": false
   },
   "outputs": [
    {
     "data": {
      "text/plain": [
       "[(0, 'a'), (1, 'b'), (2, 'c'), (3, 'd'), (4, 'e'), (5, 'f'), (6, 'g')]"
      ]
     },
     "execution_count": 7,
     "metadata": {},
     "output_type": "execute_result"
    }
   ],
   "source": [
    "list(enumerate(\"abcdefg\"))"
   ]
  },
  {
   "cell_type": "code",
   "execution_count": 8,
   "metadata": {
    "collapsed": true
   },
   "outputs": [],
   "source": [
    "a = set({1,2,3})\n",
    "b = set({2,3,4})"
   ]
  },
  {
   "cell_type": "code",
   "execution_count": null,
   "metadata": {
    "collapsed": false
   },
   "outputs": [],
   "source": []
  },
  {
   "cell_type": "code",
   "execution_count": 9,
   "metadata": {
    "collapsed": false
   },
   "outputs": [],
   "source": [
    "import bokeh"
   ]
  },
  {
   "cell_type": "code",
   "execution_count": 10,
   "metadata": {
    "collapsed": false
   },
   "outputs": [
    {
     "ename": "SyntaxError",
     "evalue": "invalid syntax (<ipython-input-10-c512ad0038e8>, line 1)",
     "output_type": "error",
     "traceback": [
      "\u001b[0;36m  File \u001b[0;32m\"<ipython-input-10-c512ad0038e8>\"\u001b[0;36m, line \u001b[0;32m1\u001b[0m\n\u001b[0;31m    bokeh.\u001b[0m\n\u001b[0m          ^\u001b[0m\n\u001b[0;31mSyntaxError\u001b[0m\u001b[0;31m:\u001b[0m invalid syntax\n"
     ]
    }
   ],
   "source": [
    "bokeh."
   ]
  },
  {
   "cell_type": "code",
   "execution_count": 11,
   "metadata": {
    "collapsed": true
   },
   "outputs": [],
   "source": [
    "from bokeh.plotting import figure, output_file, show\n",
    "\n",
    "# prepare some data\n",
    "x = [1, 2, 3, 4, 5]\n",
    "y = [6, 7, 2, 4, 5]\n",
    "\n",
    "# output to static HTML file\n",
    "output_file(\"lines.html\", title=\"line plot example\")\n",
    "\n",
    "# create a new plot with a title and axis labels\n",
    "p = figure(title=\"simple line example\", x_axis_label='x', y_axis_label='y')\n",
    "\n",
    "# add a line renderer with legend and line thickness\n",
    "p.line(x, y, legend=\"Temp.\", line_width=2)\n",
    "\n",
    "# show the results\n",
    "show(p)"
   ]
  },
  {
   "cell_type": "code",
   "execution_count": 15,
   "metadata": {
    "collapsed": false
   },
   "outputs": [
    {
     "ename": "IOError",
     "evalue": "[Errno 2] No such file or directory: 'C:\\\\Users\\\\borgr\\\\Google Drive\\\\chara\\\\to_check.txt'",
     "output_type": "error",
     "traceback": [
      "\u001b[0;31m---------------------------------------------------------------------------\u001b[0m",
      "\u001b[0;31mIOError\u001b[0m                                   Traceback (most recent call last)",
      "\u001b[0;32m<ipython-input-15-9752431a6306>\u001b[0m in \u001b[0;36m<module>\u001b[0;34m()\u001b[0m\n\u001b[1;32m     96\u001b[0m \u001b[0;31m#path = r\"C:\\Users\\borgr\\Google Drive\\chara\\test.json\"\u001b[0m\u001b[0;34m\u001b[0m\u001b[0;34m\u001b[0m\u001b[0m\n\u001b[1;32m     97\u001b[0m \u001b[0mpath\u001b[0m \u001b[0;34m=\u001b[0m \u001b[0;34m\"/Users/galyona/Google Drive/chara/test.json\"\u001b[0m\u001b[0;34m\u001b[0m\u001b[0m\n\u001b[0;32m---> 98\u001b[0;31m \u001b[0mdata\u001b[0m \u001b[0;34m=\u001b[0m \u001b[0;34m{\u001b[0m\u001b[0;34m\"#67f\"\u001b[0m \u001b[0;34m:\u001b[0m \u001b[0;34m[\u001b[0m\u001b[0mrow\u001b[0m\u001b[0;34m.\u001b[0m\u001b[0mstrip\u001b[0m\u001b[0;34m(\u001b[0m\u001b[0;34m)\u001b[0m\u001b[0;34m.\u001b[0m\u001b[0msplit\u001b[0m\u001b[0;34m(\u001b[0m\u001b[0;34m\",\"\u001b[0m\u001b[0;34m)\u001b[0m \u001b[0;32mfor\u001b[0m \u001b[0mrow\u001b[0m \u001b[0;32min\u001b[0m \u001b[0mopen\u001b[0m\u001b[0;34m(\u001b[0m\u001b[0;34mr\"C:\\Users\\borgr\\Google Drive\\chara\\to_check.txt\"\u001b[0m\u001b[0;34m)\u001b[0m\u001b[0;34m]\u001b[0m\u001b[0;34m}\u001b[0m\u001b[0;34m\u001b[0m\u001b[0m\n\u001b[0m\u001b[1;32m     99\u001b[0m \u001b[0;34m\u001b[0m\u001b[0m\n\u001b[1;32m    100\u001b[0m \u001b[0;32mfor\u001b[0m \u001b[0mcolor\u001b[0m \u001b[0;32min\u001b[0m \u001b[0mdata\u001b[0m\u001b[0;34m:\u001b[0m\u001b[0;34m\u001b[0m\u001b[0m\n",
      "\u001b[0;31mIOError\u001b[0m: [Errno 2] No such file or directory: 'C:\\\\Users\\\\borgr\\\\Google Drive\\\\chara\\\\to_check.txt'"
     ]
    }
   ],
   "source": [
    "from __future__ import print_function\n",
    "from bokeh.plotting import figure, output_file, show\n",
    "import json\n",
    "import math\n",
    "import numpy as np\n",
    "from IPython import display\n",
    "from bokeh.embed import file_html\n",
    "from colour import Color\n",
    "from bokeh.models.glyphs import Circle\n",
    "from bokeh.models import (\n",
    "    GMapPlot, Range1d, ColumnDataSource,\n",
    "    PanTool, WheelZoomTool, BoxSelectTool,\n",
    "    BoxSelectionOverlay, GMapOptions)\n",
    "from bokeh.resources import INLINE\n",
    "\n",
    "def drawMap(title, datas):\n",
    "    \"\"\"\n",
    "    color : [(lat, lon)]\n",
    "    \"\"\" \n",
    "    lat = []\n",
    "    lon = []\n",
    "    c = []\n",
    "    \n",
    "    for color in datas:\n",
    "        c_lat, c_lon = list(zip(*datas[color]))\n",
    "        lat.extend(map(float, c_lat))\n",
    "        lon.extend(map(float, c_lon))\n",
    "        c.extend([color]*len(datas[color]))\n",
    "        \n",
    "    center_lat = np.mean(lat)\n",
    "    center_lon = np.mean(lon)\n",
    "\n",
    "    x_range = Range1d()\n",
    "    y_range = Range1d()\n",
    "    \n",
    "    source = ColumnDataSource(\n",
    "        data={'lat':lat,'lon':lon,'fill':c}\n",
    "    )\n",
    "\n",
    "    map_options = GMapOptions(lat=center_lat, lng=center_lon, map_type=\"roadmap\", zoom=11)\n",
    "    plot = GMapPlot(\n",
    "        x_range=x_range, y_range=y_range,\n",
    "        map_options=map_options,\n",
    "        title=title\n",
    "    )\n",
    "\n",
    "    # Glyphs (dots on graph)\n",
    "    circle = Circle(x=\"lon\", y=\"lat\", size=5, fill_color=\"fill\", line_color=\"black\")\n",
    "    plot.add_glyph(source, circle)\n",
    "\n",
    "    #Navigation\n",
    "    pan = PanTool()\n",
    "    wheel_zoom = WheelZoomTool()\n",
    "    box_select = BoxSelectTool()\n",
    "\n",
    "    plot.add_tools(pan, wheel_zoom, box_select)\n",
    "    overlay = BoxSelectionOverlay(tool=box_select)\n",
    "    plot.add_layout(overlay)\n",
    "\n",
    "    return display.HTML(file_html(plot, INLINE, \"Google Maps Example\"))\n",
    "\n",
    "def create_user_lines(points):\n",
    "    #creates a list of tuples of x vector and y vector\n",
    "    day_delim = 864000000\n",
    "    lines = []\n",
    "    for i in range(7):\n",
    "        lines.append([[],[],[]])\n",
    "        \n",
    "    for point in points:\n",
    "        line_num = math.floor(point['start_hour']/day_delim)\n",
    "        lines[line_num][0].append(point['latitude'])\n",
    "        lines[line_num][1].append(point['longitude'])\n",
    "        lines[line_num][2].append(point['start_hour'])\n",
    "    return lines\n",
    "\n",
    "def parseCoordinate (num):\n",
    "        num = float(num)\n",
    "        while (num > 100):\n",
    "                num = num/10\n",
    "        return str(num)\n",
    "            \n",
    "def create_lines(dictionary):\n",
    "    #create 7 differentx,y vectors for each id\n",
    "    ids={}\n",
    "    for key in dictionary.keys():\n",
    "        ids[key]= create_user_lines(dictionary[key])\n",
    "    return ids\n",
    "\n",
    "def color_gen(timestamps):\n",
    "    if not timestamps:\n",
    "        return timestamps\n",
    "    yellow = Color('yellow')\n",
    "    colors=list(yellow.range_to(Color('blue'),len(timestamps)))\n",
    "    return colors\n",
    "    \n",
    "#path = r\"C:\\Users\\borgr\\Google Drive\\chara\\test.json\"\n",
    "path = \"/Users/galyona/Google Drive/chara/test.json\"\n",
    "data = {\"#67f\" : [row.strip().split(\",\") for row in open(\"/Users/galyona/Google Drive/chara/to_check.txt\")]}\n",
    "\n",
    "for color in data:\n",
    "   data[color]=[dat for dat in data[color] if dat != ['']]\n",
    "print (data)\n",
    "\n",
    "with open(path,'r') as data_file:\n",
    "    dictionary=json.load(data_file)\n",
    "lines = create_lines(dictionary)\n",
    "#print(lines)\n",
    "\n",
    "color_points = {} \n",
    "#create color lists\n",
    "for line in lines:\n",
    "    for day in range(len(lines[line])):\n",
    "        lines[line][day].append(color_gen(lines[line][day][2]))\n",
    "# map colors to points\n",
    "for line in lines:\n",
    "    for day in range(len(lines[line])):\n",
    "        for i,color in enumerate(lines[line][day][3]):\n",
    "                if color.hex not in color_points:\n",
    "                    color_points[color.hex]=[]\n",
    "                color_points[color.hex].append([parseCoordinate(lines[line][day][0][i]),parseCoordinate(lines[line][day][1][i])])\n",
    "print(color_points)\n",
    "drawMap('Presentation', color_points)"
   ]
  },
  {
   "cell_type": "code",
   "execution_count": 13,
   "metadata": {
    "collapsed": false
   },
   "outputs": [
    {
     "ename": "NameError",
     "evalue": "name 'lines' is not defined",
     "output_type": "error",
     "traceback": [
      "\u001b[0;31m---------------------------------------------------------------------------\u001b[0m",
      "\u001b[0;31mNameError\u001b[0m                                 Traceback (most recent call last)",
      "\u001b[0;32m<ipython-input-13-9629c9f95c23>\u001b[0m in \u001b[0;36m<module>\u001b[0;34m()\u001b[0m\n\u001b[0;32m----> 1\u001b[0;31m \u001b[0mx\u001b[0m\u001b[0;34m,\u001b[0m\u001b[0my\u001b[0m\u001b[0;34m=\u001b[0m\u001b[0mlines\u001b[0m\u001b[0;34m[\u001b[0m\u001b[0;34m'alon'\u001b[0m\u001b[0;34m]\u001b[0m\u001b[0;34m[\u001b[0m\u001b[0;36m0\u001b[0m\u001b[0;34m]\u001b[0m\u001b[0;34m\u001b[0m\u001b[0m\n\u001b[0m\u001b[1;32m      2\u001b[0m \u001b[0;34m\u001b[0m\u001b[0m\n\u001b[1;32m      3\u001b[0m \u001b[0;31m# output to static HTML file\u001b[0m\u001b[0;34m\u001b[0m\u001b[0;34m\u001b[0m\u001b[0m\n\u001b[1;32m      4\u001b[0m \u001b[0moutput_file\u001b[0m\u001b[0;34m(\u001b[0m\u001b[0;34m\"lines.html\"\u001b[0m\u001b[0;34m,\u001b[0m \u001b[0mtitle\u001b[0m\u001b[0;34m=\u001b[0m\u001b[0;34m\"line plot example\"\u001b[0m\u001b[0;34m)\u001b[0m\u001b[0;34m\u001b[0m\u001b[0m\n\u001b[1;32m      5\u001b[0m \u001b[0;34m\u001b[0m\u001b[0m\n",
      "\u001b[0;31mNameError\u001b[0m: name 'lines' is not defined"
     ]
    }
   ],
   "source": [
    "x,y=lines['alon'][0]\n",
    "\n",
    "# output to static HTML file\n",
    "output_file(\"lines.html\", title=\"line plot example\")\n",
    "\n",
    "# create a new plot with a title and axis labels\n",
    "p = figure(title=\"simple line example\", x_axis_label='x', y_axis_label='y')\n",
    "\n",
    "# add a line renderer with legend and line thickness\n",
    "p.line(x, y, legend=\"Temp.\", line_width=2)\n",
    "\n",
    "# show the results\n",
    "show(p)"
   ]
  },
  {
   "cell_type": "code",
   "execution_count": 18,
   "metadata": {
    "collapsed": true
   },
   "outputs": [],
   "source": [
    "import json"
   ]
  },
  {
   "cell_type": "code",
   "execution_count": null,
   "metadata": {
    "collapsed": true
   },
   "outputs": [],
   "source": [
    "gal_data = json.load(open(r\"C:\\Users\\user\\Google Drive\\chara\\gal_hist.json\"))"
   ]
  },
  {
   "cell_type": "code",
   "execution_count": null,
   "metadata": {
    "collapsed": true
   },
   "outputs": [],
   "source": [
    "import pandas as pd"
   ]
  },
  {
   "cell_type": "code",
   "execution_count": null,
   "metadata": {
    "collapsed": true
   },
   "outputs": [],
   "source": [
    "df = pandas.io.json.read_json(open(r\"C:\\Users\\user\\Google Drive\\chara\\gal_hist.json\"))"
   ]
  },
  {
   "cell_type": "code",
   "execution_count": null,
   "metadata": {
    "collapsed": false
   },
   "outputs": [],
   "source": [
    "pandas.io.json.read_json?"
   ]
  },
  {
   "cell_type": "code",
   "execution_count": null,
   "metadata": {
    "collapsed": true
   },
   "outputs": [],
   "source": []
  }
 ],
 "metadata": {
  "kernelspec": {
   "display_name": "Python 2",
   "language": "python",
   "name": "python2"
  },
  "language_info": {
   "codemirror_mode": {
    "name": "ipython",
    "version": 2
   },
   "file_extension": ".py",
   "mimetype": "text/x-python",
   "name": "python",
   "nbconvert_exporter": "python",
   "pygments_lexer": "ipython2",
   "version": "2.7.10"
  }
 },
 "nbformat": 4,
 "nbformat_minor": 0
}
